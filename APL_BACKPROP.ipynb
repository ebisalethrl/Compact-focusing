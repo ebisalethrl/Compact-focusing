{
 "cells": [
  {
   "cell_type": "code",
   "execution_count": 1,
   "id": "ce8280b6-187e-461f-b881-cf1ad000e865",
   "metadata": {},
   "outputs": [],
   "source": [
    "import numpy as np\n",
    "import matplotlib.pyplot as plt\n",
    "from scipy.optimize import minimize\n",
    "from CLEARview import lattice, aperture, elements, opticsUtils, plot"
   ]
  },
  {
   "cell_type": "code",
   "execution_count": 2,
   "id": "d07b302a-24f8-42ed-8052-a0bae7666993",
   "metadata": {},
   "outputs": [],
   "source": [
    "# Relativistic parametres (from the plasmaDefocus using CLEARview)\n",
    "P0 = 200                      #[MeV]\n",
    "m0c2 = 511e-03                #[MeV]\n",
    "E0 = np.sqrt(m0c2**2 + P0**2) #[MeV]\n",
    "\n",
    "# Initial twiss parametres \n",
    "N = 200         # Number of particles\n",
    "epsn_x = 10.0   #[um]\n",
    "epsn_y = 10.0   #[um]\n",
    "\n",
    "# Find geometrical emittance\n",
    "epsg_x = opticsUtils.get_eps_g(epsn_x,E0) \n",
    "epsg_y = opticsUtils.get_eps_g(epsn_y,E0) \n",
    "\n",
    "# Constraints in Plasma lens\n",
    "#sigma_PL = 0.2e-03     #[m]\n",
    "alpha_PL = 0.0\n",
    "\n",
    "# Initial beta and alpha in the position of the Plasma lens\n",
    "beta0x = 0.5\n",
    "alpha0x = alpha_PL\n",
    "beta0y = 0.5\n",
    "alpha0y = alpha_PL\n",
    "\n",
    "x0 = 0.0  #[mm]\n",
    "y0 = 0.0  #[1e-3]\n",
    "xp0 = 0.0 #[mm]\n",
    "yp0 = 0.0 #[1e-3]"
   ]
  },
  {
   "cell_type": "code",
   "execution_count": 22,
   "id": "2e9da0e7-f8dd-4d76-b665-e71ff8f53479",
   "metadata": {},
   "outputs": [
    {
     "name": "stdout",
     "output_type": "stream",
     "text": [
      "15.017499999999998\n",
      "Position of PLE_start: 15.007499999999999\n",
      "15.007499999999999\n"
     ]
    }
   ],
   "source": [
    "from CLEARview import clearST_survey0_tfs #get the lattice\n",
    "\n",
    "# Fix the setup of the quadrupoles\n",
    "latticeCLEAR = clearST_survey0_tfs.buildLattice(P0, doFinalize=False)\n",
    "sPLE = latticeCLEAR.getElemS('PLE0800M') # Get the position of the middle of the plasmalens\n",
    "latticeCLEAR.implicitSeq_removeElem('CA.DHJ0780') # Remove kicker magnet from the setup\n",
    "latticeCLEAR.implicitSeq_removeElem('BTV0800') # Remove to avoid overlapping elements when adding PLE\n",
    "#latticeCLEAR.implicitSeq_removeElem('PLE0800M') # Remove the marker for the plasmalens\n",
    "latticeCLEAR.implicitSeq_removeElem('CA.DHJ0840') # Remove kicker magnet from the setup\n",
    "latticeCLEAR.implicitSeq_addElem(elements.CLEAR_Q(0.0, P0), 'QFD0860', 16.2625, refer='end', referFrom=None) # Add focusing magnet\n",
    "latticeCLEAR.implicitSeq_addElem(elements.Marker(),'PLE_start', sPLE-0.01) #Mark the start of the plasmalens \n",
    "latticeCLEAR.implicitSeq_addElem(elements.Marker(),'PLE_end',sPLE+0.01) #Mark the end of the plasmalens\n",
    "#latticeCLEAR.implicitSeq_addElem(elements.Marker(), 'Start', 14.400)\n",
    "print(sPLE)\n",
    "# Remove some markers for a simpler setup (easier to read the plot)\n",
    "latticeCLEAR.implicitSeq_removeElem('CA.QS0870')\n",
    "latticeCLEAR.implicitSeq_removeElem('CA.CLEAR$END')\n",
    "latticeCLEAR.implicitSeq_removeElem('CA.CLDUMP$START')\n",
    "latticeCLEAR.implicitSeq_removeElem('CA.VAW0915')\n",
    "latticeCLEAR.implicitSeq_removeElem('CA.ICT0930')\n",
    "latticeCLEAR.implicitSeq_removeElem('CLDUMP$END')\n",
    "latticeCLEAR.implicitSeq_removeElem('CA.BTV0910') # Fjernet pga jeg får trøbbel med optimeringen \n",
    "    #latticeCLEAR.implicitSeq_finalize()\n",
    "\n",
    "# Add markers for different focal points\n",
    "#latticeCLEAR.implicitSeq_addElem(elements.Marker(), 'Focus point', 18.1815) # Dette er fokuspunktet som er symmetrisk\n",
    "latticeCLEAR.implicitSeq_addElem(elements.Marker(), 'Focus point', 18.1815)\n",
    "#latticeCLEAR.implicitSeq_finalize()\n",
    "\n",
    "# ADD PLASMALENS\n",
    "I4 = 0.0\n",
    "#latticeCLEAR.implicitSeq_addElem( elements.CLEAR_PlasmaLens( 20e-3, 0.50, I4, P0 ), 'PLE0800', sPLE)\n",
    "\n",
    "latticeCLEAR.implicitSeq_finalize()\n",
    "\n",
    "latticeCLEAR_PLE = latticeCLEAR.getSubLattice('PLE_start', 'PLE_end')\n",
    "\n",
    "print(\"Position of PLE_start:\",15.007499999999999)\n",
    "print(sPLE-0.01)"
   ]
  },
  {
   "cell_type": "markdown",
   "id": "c730ed8c-56fc-4fdc-b0e1-2f0c1ca8f790",
   "metadata": {},
   "source": [
    "## Backpropagate from middle of APL (without APL present)"
   ]
  },
  {
   "cell_type": "code",
   "execution_count": 24,
   "id": "2c55be79-c3da-4745-a300-199060a80349",
   "metadata": {},
   "outputs": [
    {
     "name": "stdout",
     "output_type": "stream",
     "text": [
      "XM: [[ 1.e+00 -2.e-02  1.e-04]\n",
      " [ 0.e+00  1.e+00 -1.e-02]\n",
      " [ 0.e+00  0.e+00  1.e+00]]\n",
      "YM: [[ 1.e+00 -2.e-02  1.e-04]\n",
      " [ 0.e+00  1.e+00 -1.e-02]\n",
      " [ 0.e+00  0.e+00  1.e+00]]\n",
      "[15.0075 15.0075 15.0175 15.0175 15.0275 15.0275]\n",
      "[15.0075     15.0075     15.00861111 15.00972222 15.01083333 15.01194444\n",
      " 15.01305556 15.01416667 15.01527778 15.01638889 15.0175     15.0175\n",
      " 15.01861111 15.01972222 15.02083333 15.02194444 15.02305556 15.02416667\n",
      " 15.02527778 15.02638889 15.0275     15.0275    ]\n"
     ]
    },
    {
     "data": {
      "image/png": "[encoded data removed]",
      "text/plain": [
       "<Figure size 625.037x166.676 with 2 Axes>"
      ]
     },
     "metadata": {
      "needs_background": "light"
     },
     "output_type": "display_data"
    },
    {
     "data": {
      "image/png": "[encoded data removed]",
      "text/plain": [
       "<Figure size 416.691x166.676 with 2 Axes>"
      ]
     },
     "metadata": {
      "needs_background": "light"
     },
     "output_type": "display_data"
    },
    {
     "name": "stdout",
     "output_type": "stream",
     "text": [
      "#  s[m] element_name         typeName            betax[m] betay[m]         alphax[m]        alphay[m] sigmax[mm] sigmay[mm]    x[mm]    y[mm]    dx/ds[1e-3]    dy/ds[1e-3]\n",
      "###########################################################################################################################################################################\n",
      "    0.0 START                -----                 0.5002   0.5002              0.02             0.02    0.11312    0.11312      0.0      0.0            0.0            0.0\n",
      "    0.0 PLE_start            Marker                0.5002   0.5002              0.02             0.02    0.11312    0.11312      0.0      0.0            0.0            0.0\n",
      "   0.01 drift_23             Drift                    0.5      0.5               0.0              0.0     0.1131     0.1131      0.0      0.0            0.0            0.0\n",
      "   0.01 PLE0800M             Marker                   0.5      0.5               0.0              0.0     0.1131     0.1131      0.0      0.0            0.0            0.0\n",
      "   0.02 drift_24             Drift                 0.5002   0.5002             -0.02            -0.02    0.11312    0.11312      0.0      0.0            0.0            0.0\n",
      "   0.02 PLE_end              Marker                0.5002   0.5002             -0.02            -0.02    0.11312    0.11312      0.0      0.0            0.0            0.0\n",
      "gamma_x= 2.0\n"
     ]
    }
   ],
   "source": [
    "beta0x=beta0y=0.5\n",
    "alpha0x=alpha0y=0.0\n",
    "pos_PLE = sPLE-0.01\n",
    "# Backpropagate from middle of plasma lens to start of plasmalens in order to find beta and alpha\n",
    "\n",
    "#Backpropagate optics from Focal point to start of triplet\n",
    "(XM,YM) = latticeCLEAR_PLE.getTwissMatrix(firstElem=\"PLE_start\",lastElem=\"PLE0800M\",lastElemExclusive=False)\n",
    "print('XM:', XM)\n",
    "print('YM:', YM)\n",
    "\n",
    "# Twiss matrix for propagating\n",
    "xt_init = np.asarray([beta0x, alpha0x, opticsUtils.getGamma(alpha0x,beta0x)])\n",
    "yt_init = np.asarray([beta0y, alpha0y, opticsUtils.getGamma(alpha0y,beta0y)])\n",
    "\n",
    "xt_init = np.linalg.solve(XM,xt_init)\n",
    "yt_init = np.linalg.solve(YM,yt_init)\n",
    "\n",
    "(s,xt,yt, xTra,yTra, sSub,xtSub,ytSub,xTraSub,yTraSub) = latticeCLEAR_PLE.computeTwiss(xt_init,yt_init, subdivide=1e-3)\n",
    "\n",
    "\n",
    "(ax_beta1,ax_alpha1) = plot.alphaBeta(s,xtSub,ytSub, sSub)\n",
    "plot.addElemsToPlot(ax_beta1,latticeCLEAR_PLE)\n",
    "plot.addElemsToPlot(ax_alpha1,latticeCLEAR_PLE)\n",
    "plot.addElemNamesToPlot(ax_beta1,latticeCLEAR_PLE, ypos=1.1)\n",
    "plt.gcf().set_figwidth(5.787376228033763*1.5)\n",
    "plt.gcf().set_figheight(5.787376228033763/2.5)\n",
    "#plt.savefig(f'plots_obj2/BACKPROP_LENSE_Twisstart_alfabeta.pdf', bbox_inches='tight')\n",
    "s_ax = s + pos_PLE\n",
    "print(s_ax)\n",
    "sSub_ax = sSub + pos_PLE\n",
    "print(sSub_ax)\n",
    "\n",
    "\n",
    "## Let's plot the beam sigmas!\n",
    "(ax1_1,ax2_1) = plot.sigmas(s_ax,xtSub,ytSub,(epsg_x,epsg_y), xTraSub,yTraSub, sSub=sSub_ax, equalY=True)\n",
    "plot.addElemsToPlot(ax1_1,latticeCLEAR_PLE)\n",
    "plot.addElemsToPlot(ax2_1,latticeCLEAR_PLE)\n",
    "plot.addElemNamesToPlot(ax1_1,latticeCLEAR_PLE, ypos=1.1)\n",
    "plt.gcf().set_figwidth(5.787376228033763)\n",
    "plt.gcf().set_figheight(5.787376228033763/2.5)\n",
    "#plt.savefig(f'plots_obj2/BACKPROP_LENSE_Twisstart_sigma.pdf', bbox_inches='tight')\n",
    "plt.show()\n",
    "\n",
    "opticsUtils.printLatticeOptics(latticeCLEAR_PLE, s, xt, yt, epsg_x,epsg_y, xTra, yTra)\n",
    "\n",
    "gamma_x = opticsUtils.getGamma(0.02, 0.5002)\n",
    "print('gamma_x=', gamma_x)"
   ]
  },
  {
   "cell_type": "code",
   "execution_count": null,
   "id": "929868db-ffc9-4fe5-bd7d-4043ac60354a",
   "metadata": {},
   "outputs": [],
   "source": []
  }
 ],
 "metadata": {
  "kernelspec": {
   "display_name": "Python 3 (ipykernel)",
   "language": "python",
   "name": "python3"
  },
  "language_info": {
   "codemirror_mode": {
    "name": "ipython",
    "version": 3
   },
   "file_extension": ".py",
   "mimetype": "text/x-python",
   "name": "python",
   "nbconvert_exporter": "python",
   "pygments_lexer": "ipython3",
   "version": "3.9.7"
  }
 },
 "nbformat": 4,
 "nbformat_minor": 5
}
